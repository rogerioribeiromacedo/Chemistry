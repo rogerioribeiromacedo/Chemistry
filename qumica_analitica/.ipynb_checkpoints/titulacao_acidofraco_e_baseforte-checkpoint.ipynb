{
 "cells": [
  {
   "cell_type": "markdown",
   "id": "6d99a961-830b-4066-80cd-520b53a55a58",
   "metadata": {},
   "source": [
    "<h1 style=\"color: #5e9ca0; text-align: center;\">Química Analítica</h1>\n",
    "<h2 style=\"color: #2e6c80; text-align: center;\">Titulação de Ácido Fraco e Base Forte</h2></br>"
   ]
  },
  {
   "cell_type": "markdown",
   "id": "fd5d2f88-005e-4760-a832-b4e22239e5ab",
   "metadata": {},
   "source": [
    "Deduzir a curva de titula&ccedil;&atilde;o da rea&ccedil;&atilde;o entre 50,00 mL de HA 0,100 (Ka = 1,00 x 10<sup>-7</sup>) 0,100 mol &sdot; L<sup>-1</sup> com NaOH 0,1000 mol &sdot; L<sup>-1</sup>.&nbsp;</p>\n"
   ]
  },
  {
   "cell_type": "markdown",
   "id": "c4c30afe-bb8f-454e-a862-dab88f1c713a",
   "metadata": {},
   "source": [
    "<p><strong>a)</strong> No ponto inicial (sem adi&ccedil;&atilde;o de NaOH)</p>"
   ]
  },
  {
   "cell_type": "code",
   "execution_count": null,
   "id": "c6ca8111-25e8-4616-9da1-f7b7adb68c4d",
   "metadata": {},
   "outputs": [],
   "source": []
  }
 ],
 "metadata": {
  "kernelspec": {
   "display_name": "Python 3 (ipykernel)",
   "language": "python",
   "name": "python3"
  },
  "language_info": {
   "codemirror_mode": {
    "name": "ipython",
    "version": 3
   },
   "file_extension": ".py",
   "mimetype": "text/x-python",
   "name": "python",
   "nbconvert_exporter": "python",
   "pygments_lexer": "ipython3",
   "version": "3.11.5"
  }
 },
 "nbformat": 4,
 "nbformat_minor": 5
}
